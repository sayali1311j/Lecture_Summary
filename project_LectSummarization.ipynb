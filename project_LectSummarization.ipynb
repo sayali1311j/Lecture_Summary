{
 "cells": [
  {
   "cell_type": "code",
   "execution_count": 9,
   "metadata": {},
   "outputs": [],
   "source": [
    "from nltk.corpus import stopwords\n",
    "from nltk.cluster.util import cosine_distance\n",
    "import numpy as np\n",
    "import networkx as nx\n"
   ]
  },
  {
   "cell_type": "code",
   "execution_count": 10,
   "metadata": {},
   "outputs": [],
   "source": [
    "\n",
    "def read_article(file_name):\n",
    "    file = open(file_name, \"r\")\n",
    "    filedata = file.readlines()\n",
    "    textdata = filedata[0].split(\". \")\n",
    "    sentences = []\n",
    "\n",
    "    for sentence in textdata:\n",
    "        print(sentence)\n",
    "        sentences.append(sentence.replace(\"[^a-zA-Z]\", \" \").split(\" \"))\n",
    "    sentences.pop() \n",
    "    \n",
    "    return sentences"
   ]
  },
  {
   "cell_type": "code",
   "execution_count": 11,
   "metadata": {},
   "outputs": [],
   "source": [
    "\n",
    "def sentence_similarity(sent1, sent2, stopwords=None):\n",
    "    if stopwords is None:\n",
    "        stopwords = []\n",
    " \n",
    "    sent1 = [w.lower() for w in sent1]\n",
    "    sent2 = [w.lower() for w in sent2]\n",
    " \n",
    "    all_words = list(set(sent1 + sent2))\n",
    " \n",
    "    vector1 = [0] * len(all_words)\n",
    "    vector2 = [0] * len(all_words)\n",
    " \n",
    "    # build the vector for the first sentence\n",
    "    for w in sent1:\n",
    "        if w in stopwords:\n",
    "            continue\n",
    "        vector1[all_words.index(w)] += 1\n",
    " \n",
    "    # build the vector for the second sentence\n",
    "    for w in sent2:\n",
    "        if w in stopwords:\n",
    "            continue\n",
    "        vector2[all_words.index(w)] += 1\n",
    " \n",
    "    return 1 - cosine_distance(vector1, vector2)\n",
    " "
   ]
  },
  {
   "cell_type": "code",
   "execution_count": 12,
   "metadata": {},
   "outputs": [],
   "source": [
    "\n",
    "def build_similarity_matrix(sentences, stop_words):\n",
    "    # Create an empty similarity matrix\n",
    "    similarity_matrix = np.zeros((len(sentences), len(sentences)))\n",
    " \n",
    "    for idx1 in range(len(sentences)):\n",
    "        for idx2 in range(len(sentences)):\n",
    "            if idx1 == idx2: # if both sentence are same then ignore \n",
    "                continue \n",
    "            similarity_matrix[idx1][idx2] = sentence_similarity(sentences[idx1], sentences[idx2], stop_words)\n",
    "\n",
    "    return similarity_matrix\n"
   ]
  },
  {
   "cell_type": "code",
   "execution_count": 13,
   "metadata": {},
   "outputs": [],
   "source": [
    "\n",
    "def generate_summary(file_name, top_n=5):\n",
    "    stop_words = stopwords.words('english')\n",
    "    summarize_text = []\n",
    "\n",
    "    # Read text anc split it\n",
    "    sentences =  read_article(file_name)\n",
    "\n",
    "    # Generate Similary Martix across sentences\n",
    "    sentence_similarity_martix = build_similarity_matrix(sentences, stop_words)\n",
    "\n",
    "    # Rank sentences in similarity martix\n",
    "    sentence_similarity_graph = nx.from_numpy_array(sentence_similarity_martix)\n",
    "    scores = nx.pagerank(sentence_similarity_graph)\n",
    "\n",
    "    # Rank sorting and pick top sentences\n",
    "    ranked_sentence = sorted(((scores[i],s) for i,s in enumerate(sentences)), reverse=True)    \n",
    "    print(\"Indexes of top ranked_sentence order are \", ranked_sentence)    \n",
    "\n",
    "    for i in range(top_n):\n",
    "      summarize_text.append(\" \".join(ranked_sentence[i][1]))\n",
    "\n",
    "    # Output the summarize text\n",
    "    print(\"****Summarize Text****: \\n\", \". \".join(summarize_text))\n"
   ]
  },
  {
   "cell_type": "code",
   "execution_count": 14,
   "metadata": {},
   "outputs": [
    {
     "name": "stdout",
     "output_type": "stream",
     "text": [
      "In today’s world as the information technology has changedrapidly, many computing applications deal with large amounts ofinformation regularly\n",
      "As the end user applications has changed significantly in last few decades, there is a challenge to store the large amount ofinformation, retrieve and manage this information in timely manner\n",
      "This can be achieving today by making use of services of Database Management System (DBMS)\n",
      "Today DBMS not only used to insert, update and delete the data stored in database\n",
      "The job of DBMS system is to collect the data, give a systematic representation to it and also provides ways for the data to be modified or extracted by users or other programs\n",
      "As the technology has grown rapidly in past four decades, today DBMS has gain its own importance because the data has brought online in the hands of end user through different computer networking\n",
      "\n",
      "Indexes of top ranked_sentence order are  [(0.2362853589618984, ['As', 'the', 'technology', 'has', 'grown', 'rapidly', 'in', 'past', 'four', 'decades,', 'today', 'DBMS', 'has', 'gain', 'its', 'own', 'importance', 'because', 'the', 'data', 'has', 'brought', 'online', 'in', 'the', 'hands', 'of', 'end', 'user', 'through', 'different', 'computer', 'networking']), (0.21926856172660172, ['Today', 'DBMS', 'not', 'only', 'used', 'to', 'insert,', 'update', 'and', 'delete', 'the', 'data', 'stored', 'in', 'database']), (0.15060205679612226, ['As', 'the', 'end', 'user', 'applications', 'has', 'changed', 'significantly', 'in', 'last', 'few', 'decades,', 'there', 'is', 'a', 'challenge', 'to', 'store', 'the', 'large', 'amount', 'ofinformation,', 'retrieve', 'and', 'manage', 'this', 'information', 'in', 'timely', 'manner']), (0.1421769642691367, ['This', 'can', 'be', 'achieving', 'today', 'by', 'making', 'use', 'of', 'services', 'of', 'Database', 'Management', 'System', '(DBMS)']), (0.13698153968593735, ['The', 'job', 'of', 'DBMS', 'system', 'is', 'to', 'collect', 'the', 'data,', 'give', 'a', 'systematic', 'representation', 'to', 'it', 'and', 'also', 'provides', 'ways', 'for', 'the', 'data', 'to', 'be', 'modified', 'or', 'extracted', 'by', 'users', 'or', 'other', 'programs']), (0.11468551856030339, ['In', 'today’s', 'world', 'as', 'the', 'information', 'technology', 'has', 'changedrapidly,', 'many', 'computing', 'applications', 'deal', 'with', 'large', 'amounts', 'ofinformation', 'regularly'])]\n",
      "****Summarize Text****: \n",
      " As the technology has grown rapidly in past four decades, today DBMS has gain its own importance because the data has brought online in the hands of end user through different computer networking. Today DBMS not only used to insert, update and delete the data stored in database\n"
     ]
    }
   ],
   "source": [
    "# let's start to sammarize \n",
    "generate_summary( \"c1.1(1)(1).txt\", 2)"
   ]
  },
  {
   "cell_type": "code",
   "execution_count": null,
   "metadata": {},
   "outputs": [],
   "source": []
  }
 ],
 "metadata": {
  "kernelspec": {
   "display_name": "Python 3",
   "language": "python",
   "name": "python3"
  },
  "language_info": {
   "codemirror_mode": {
    "name": "ipython",
    "version": 3
   },
   "file_extension": ".py",
   "mimetype": "text/x-python",
   "name": "python",
   "nbconvert_exporter": "python",
   "pygments_lexer": "ipython3",
   "version": "3.8.3"
  }
 },
 "nbformat": 4,
 "nbformat_minor": 2
}
